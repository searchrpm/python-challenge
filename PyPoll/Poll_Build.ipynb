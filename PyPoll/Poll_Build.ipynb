{
 "cells": [
  {
   "cell_type": "code",
   "execution_count": 9,
   "metadata": {},
   "outputs": [],
   "source": [
    "import os\n",
    "import csv"
   ]
  },
  {
   "cell_type": "code",
   "execution_count": 10,
   "metadata": {},
   "outputs": [
    {
     "data": {
      "text/plain": [
       "'poll_data/election_data.csv'"
      ]
     },
     "execution_count": 10,
     "metadata": {},
     "output_type": "execute_result"
    }
   ],
   "source": [
    "csv_path = os.path.join(\"poll_data\", \"election_data.csv\")\n",
    "csv_path"
   ]
  },
  {
   "cell_type": "code",
   "execution_count": 11,
   "metadata": {},
   "outputs": [],
   "source": [
    "total_votes = 0\n",
    "khan_votes = 0\n",
    "correy_votes = 0\n",
    "li_votes = 0\n",
    "o_tooley_votes = 0"
   ]
  },
  {
   "cell_type": "code",
   "execution_count": 12,
   "metadata": {},
   "outputs": [],
   "source": [
    "with open(csv_path, newline='') as csvfile:\n",
    "    csvreader = csv.reader(csvfile, delimiter=',')\n",
    "    csv_header = next(csvfile)\n",
    "    for row in csvreader:\n",
    "        total_votes += 1\n",
    "        if (row[2] == \"Khan\"):\n",
    "            khan_votes += 1\n",
    "        elif (row[2] == \"Correy\"):\n",
    "            correy_votes += 1\n",
    "        elif (row[2] == \"Li\"):\n",
    "            li_votes += 1\n",
    "        else:\n",
    "            o_tooley_votes += 1"
   ]
  },
  {
   "cell_type": "code",
   "execution_count": 13,
   "metadata": {},
   "outputs": [],
   "source": [
    "    kahn_percent = khan_votes / total_votes\n",
    "    correy_percent = correy_votes / total_votes\n",
    "    li_percent = li_votes / total_votes\n",
    "    o_tooley_percent = o_tooley_votes / total_votes\n",
    "    \n",
    "    winner = max(khan_votes, correy_votes, li_votes, o_tooley_votes)"
   ]
  },
  {
   "cell_type": "code",
   "execution_count": 14,
   "metadata": {},
   "outputs": [],
   "source": [
    "    if winner == khan_votes:\n",
    "        winner_name = \"Khan\"\n",
    "    elif winner == correy_votes:\n",
    "        winner_name = \"Correy\"\n",
    "    elif winner == li_votes:\n",
    "        winner_name = \"Li\"\n",
    "    else:\n",
    "        winner_name = \"O'Tooley\" "
   ]
  },
  {
   "cell_type": "code",
   "execution_count": 15,
   "metadata": {},
   "outputs": [
    {
     "name": "stdout",
     "output_type": "stream",
     "text": [
      "Election Results\n",
      "---------------------------\n",
      "Total Votes: 3521001\n",
      "---------------------------\n",
      "Kahn: 63.000%(2218231)\n",
      "Correy: 20.000%(704200)\n",
      "Li: 14.000%(492940)\n",
      "O'Tooley: 3.000%(105630)\n",
      "---------------------------\n",
      "Winner: Khan\n",
      "---------------------------\n"
     ]
    }
   ],
   "source": [
    "print(f\"Election Results\")\n",
    "print(f\"---------------------------\")\n",
    "print(f\"Total Votes: {total_votes}\")\n",
    "print(f\"---------------------------\")\n",
    "print(f\"Kahn: {kahn_percent:.3%}({khan_votes})\")\n",
    "print(f\"Correy: {correy_percent:.3%}({correy_votes})\")\n",
    "print(f\"Li: {li_percent:.3%}({li_votes})\")\n",
    "print(f\"O'Tooley: {o_tooley_percent:.3%}({o_tooley_votes})\")\n",
    "print(f\"---------------------------\")\n",
    "print(f\"Winner: {winner_name}\")\n",
    "print(f\"---------------------------\")"
   ]
  },
  {
   "cell_type": "code",
   "execution_count": 16,
   "metadata": {},
   "outputs": [],
   "source": [
    "output_file = os.path.join(\"poll_data\", \"poll_data.text\")\n",
    "\n",
    "with open(output_file, 'w',) as txtfile:\n",
    "    txtfile.write(f\"Election Results\\n\")\n",
    "    txtfile.write(f\"---------------------------\\n\")\n",
    "    txtfile.write(f\"Total Votes: {total_votes}\\n\")\n",
    "    txtfile.write(f\"---------------------------\\n\")\n",
    "    txtfile.write(f\"Kahn: {kahn_percent:.3%}({khan_votes})\\n\")\n",
    "    txtfile.write(f\"Correy: {correy_percent:.3%}({correy_votes})\\n\")\n",
    "    txtfile.write(f\"Li: {li_percent:.3%}({li_votes})\\n\")\n",
    "    txtfile.write(f\"O'Tooley: {o_tooley_percent:.3%}({o_tooley_votes})\\n\")\n",
    "    txtfile.write(f\"---------------------------\\n\")\n",
    "    txtfile.write(f\"Winner: {winner_name}\\n\")"
   ]
  },
  {
   "cell_type": "code",
   "execution_count": null,
   "metadata": {},
   "outputs": [],
   "source": []
  }
 ],
 "metadata": {
  "kernelspec": {
   "display_name": "Conda [PythonData]",
   "language": "python",
   "name": "pythondata"
  },
  "language_info": {
   "codemirror_mode": {
    "name": "ipython",
    "version": 3
   },
   "file_extension": ".py",
   "mimetype": "text/x-python",
   "name": "python",
   "nbconvert_exporter": "python",
   "pygments_lexer": "ipython3",
   "version": "3.7.3"
  }
 },
 "nbformat": 4,
 "nbformat_minor": 2
}
