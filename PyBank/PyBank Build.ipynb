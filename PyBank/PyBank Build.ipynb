{
 "cells": [
  {
   "cell_type": "code",
   "execution_count": null,
   "metadata": {},
   "outputs": [],
   "source": [
    "import os\n",
    "import csv"
   ]
  },
  {
   "cell_type": "code",
   "execution_count": null,
   "metadata": {},
   "outputs": [],
   "source": [
    "csv_path = os.path.join(\"bank_data\", \"budget_data.csv\")\n",
    "csv_path"
   ]
  },
  {
   "cell_type": "code",
   "execution_count": null,
   "metadata": {},
   "outputs": [],
   "source": [
    "month_count = []\n",
    "profit = []\n",
    "change_profit = []\n",
    "with open(csv_path, \"r\") as csvfile:\n",
    "    csv_reader = csv.reader(csvfile, delimiter=\",\")\n",
    "    csv_header = next(csv_reader)\n",
    "    for row in csv_reader:\n",
    "        month_count.append(row[0])\n",
    "        profit.append(int(row[1]))\n",
    "    for i in range(len(profit)-1):\n",
    "        change_profit.append(profit[i+1]-profit[i])\n",
    "        "
   ]
  },
  {
   "cell_type": "code",
   "execution_count": null,
   "metadata": {},
   "outputs": [],
   "source": [
    "increase = max(change_profit)\n",
    "decrease = min(change_profit)"
   ]
  },
  {
   "cell_type": "code",
   "execution_count": null,
   "metadata": {},
   "outputs": [],
   "source": [
    "month_increase = change_profit.index(max(change_profit))+1\n",
    "month_decrease = change_profit.index(min(change_profit))+1"
   ]
  },
  {
   "cell_type": "code",
   "execution_count": null,
   "metadata": {},
   "outputs": [],
   "source": [
    "print(\"Financial Analysis\")\n",
    "print(\"------------------------\")\n",
    "print(f\"Total Months:{len(month_count)}\")\n",
    "print(f\"Total: ${sum(profit)}\")\n",
    "print(f\"Average Change: {round(sum(change_profit)/len(change_profit),2)}\")\n",
    "print(f\"Greatest Increase in Profits: {month_count[month_increase]} (${(str(increase))})\")\n",
    "print(f\"Greatest Decrease in Profits: {month_count[month_decrease]} (${(str(decrease))})\") "
   ]
  },
  {
   "cell_type": "code",
   "execution_count": null,
   "metadata": {},
   "outputs": [],
   "source": [
    "output_file = os.path.join (\"bank_data\", \"budget_data.text\")\n",
    "\n",
    "with open(output_file,\"w\") as new:\n",
    "    new.write(\"Financial Analysis\")\n",
    "    new.write(\"\\n\")\n",
    "    new.write(\"------------------------\")\n",
    "    new.write(\"\\n\")\n",
    "    new.write(f\"Total Months:{len(month_count)}\")\n",
    "    new.write(\"\\n\")\n",
    "    new.write(f\"Total: ${sum(profit)}\")\n",
    "    new.write(\"\\n\")\n",
    "    new.write(f\"Average Change: {round(sum(change_profit)/len(change_profit),2)}\")\n",
    "    new.write(\"\\n\")\n",
    "    new.write(f\"Greatest Increase in Profits: {month_count[month_increase]} (${(str(increase))})\")\n",
    "    new.write(\"\\n\")\n",
    "    new.write(f\"Greatest Decrease in Profits: {month_count[month_decrease]} (${(str(decrease))})\")"
   ]
  },
  {
   "cell_type": "code",
   "execution_count": null,
   "metadata": {},
   "outputs": [],
   "source": []
  }
 ],
 "metadata": {
  "kernelspec": {
   "display_name": "Conda [PythonData]",
   "language": "python",
   "name": "pythondata"
  },
  "language_info": {
   "codemirror_mode": {
    "name": "ipython",
    "version": 3
   },
   "file_extension": ".py",
   "mimetype": "text/x-python",
   "name": "python",
   "nbconvert_exporter": "python",
   "pygments_lexer": "ipython3",
   "version": "3.7.3"
  }
 },
 "nbformat": 4,
 "nbformat_minor": 2
}
